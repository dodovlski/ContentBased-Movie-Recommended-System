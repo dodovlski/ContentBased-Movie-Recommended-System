{
 "cells": [
  {
   "cell_type": "code",
   "execution_count": 78,
   "id": "25a811fe-977b-42c7-8b00-762f4086fd00",
   "metadata": {},
   "outputs": [],
   "source": [
    "import numpy as np\n",
    "import pandas as pd\n",
    "import matplotlib.pyplot as plt\n",
    "import os"
   ]
  },
  {
   "cell_type": "code",
   "execution_count": 79,
   "id": "45d5c3f5-e47a-4969-b45b-b4bb3ba94b27",
   "metadata": {},
   "outputs": [],
   "source": [
    "pd.options.display.max_columns = None"
   ]
  },
  {
   "cell_type": "code",
   "execution_count": 80,
   "id": "cca47d96-caa7-427d-b25f-c84de4eb1e04",
   "metadata": {},
   "outputs": [],
   "source": [
    "movies = pd.read_csv('desktop/Movie Recommender System/movie_data/TMDB_all_movies.csv')"
   ]
  },
  {
   "cell_type": "code",
   "execution_count": 81,
   "id": "dababb39-14e0-44f5-bfcd-acab576b5ad3",
   "metadata": {},
   "outputs": [
    {
     "data": {
      "text/html": [
       "<div>\n",
       "<style scoped>\n",
       "    .dataframe tbody tr th:only-of-type {\n",
       "        vertical-align: middle;\n",
       "    }\n",
       "\n",
       "    .dataframe tbody tr th {\n",
       "        vertical-align: top;\n",
       "    }\n",
       "\n",
       "    .dataframe thead th {\n",
       "        text-align: right;\n",
       "    }\n",
       "</style>\n",
       "<table border=\"1\" class=\"dataframe\">\n",
       "  <thead>\n",
       "    <tr style=\"text-align: right;\">\n",
       "      <th></th>\n",
       "      <th>id</th>\n",
       "      <th>title</th>\n",
       "      <th>vote_average</th>\n",
       "      <th>vote_count</th>\n",
       "      <th>status</th>\n",
       "      <th>release_date</th>\n",
       "      <th>revenue</th>\n",
       "      <th>runtime</th>\n",
       "      <th>budget</th>\n",
       "      <th>imdb_id</th>\n",
       "      <th>original_language</th>\n",
       "      <th>original_title</th>\n",
       "      <th>overview</th>\n",
       "      <th>popularity</th>\n",
       "      <th>tagline</th>\n",
       "      <th>genres</th>\n",
       "      <th>production_companies</th>\n",
       "      <th>production_countries</th>\n",
       "      <th>spoken_languages</th>\n",
       "      <th>cast</th>\n",
       "      <th>director</th>\n",
       "      <th>director_of_photography</th>\n",
       "      <th>writers</th>\n",
       "      <th>producers</th>\n",
       "      <th>music_composer</th>\n",
       "    </tr>\n",
       "  </thead>\n",
       "  <tbody>\n",
       "    <tr>\n",
       "      <th>0</th>\n",
       "      <td>2</td>\n",
       "      <td>Ariel</td>\n",
       "      <td>7.1</td>\n",
       "      <td>318.0</td>\n",
       "      <td>Released</td>\n",
       "      <td>1988-10-21</td>\n",
       "      <td>0.0</td>\n",
       "      <td>73.0</td>\n",
       "      <td>0.0</td>\n",
       "      <td>tt0094675</td>\n",
       "      <td>fi</td>\n",
       "      <td>Ariel</td>\n",
       "      <td>After the coal mine he works at closes and his...</td>\n",
       "      <td>16.788</td>\n",
       "      <td>NaN</td>\n",
       "      <td>Drama, Comedy, Romance, Crime</td>\n",
       "      <td>Villealfa Filmproductions</td>\n",
       "      <td>Finland</td>\n",
       "      <td>suomi</td>\n",
       "      <td>Kari Helaseppä, Susanna Haavisto, Hannu Kivisa...</td>\n",
       "      <td>Aki Kaurismäki</td>\n",
       "      <td>Timo Salminen</td>\n",
       "      <td>Aki Kaurismäki</td>\n",
       "      <td>Aki Kaurismäki</td>\n",
       "      <td>NaN</td>\n",
       "    </tr>\n",
       "    <tr>\n",
       "      <th>1</th>\n",
       "      <td>3</td>\n",
       "      <td>Shadows in Paradise</td>\n",
       "      <td>7.3</td>\n",
       "      <td>360.0</td>\n",
       "      <td>Released</td>\n",
       "      <td>1986-10-17</td>\n",
       "      <td>0.0</td>\n",
       "      <td>74.0</td>\n",
       "      <td>0.0</td>\n",
       "      <td>tt0092149</td>\n",
       "      <td>fi</td>\n",
       "      <td>Varjoja paratiisissa</td>\n",
       "      <td>Nikander, a rubbish collector and would-be ent...</td>\n",
       "      <td>32.465</td>\n",
       "      <td>NaN</td>\n",
       "      <td>Drama, Comedy, Romance</td>\n",
       "      <td>Villealfa Filmproductions</td>\n",
       "      <td>Finland</td>\n",
       "      <td>suomi, English, svenska</td>\n",
       "      <td>Helmeri Pellonpää, Tanja Talaskivi, Esko Nikka...</td>\n",
       "      <td>Aki Kaurismäki</td>\n",
       "      <td>Timo Salminen</td>\n",
       "      <td>Aki Kaurismäki</td>\n",
       "      <td>Mika Kaurismäki</td>\n",
       "      <td>NaN</td>\n",
       "    </tr>\n",
       "  </tbody>\n",
       "</table>\n",
       "</div>"
      ],
      "text/plain": [
       "   id                title  vote_average  vote_count    status release_date  \\\n",
       "0   2                Ariel           7.1       318.0  Released   1988-10-21   \n",
       "1   3  Shadows in Paradise           7.3       360.0  Released   1986-10-17   \n",
       "\n",
       "   revenue  runtime  budget    imdb_id original_language  \\\n",
       "0      0.0     73.0     0.0  tt0094675                fi   \n",
       "1      0.0     74.0     0.0  tt0092149                fi   \n",
       "\n",
       "         original_title                                           overview  \\\n",
       "0                 Ariel  After the coal mine he works at closes and his...   \n",
       "1  Varjoja paratiisissa  Nikander, a rubbish collector and would-be ent...   \n",
       "\n",
       "   popularity tagline                         genres  \\\n",
       "0      16.788     NaN  Drama, Comedy, Romance, Crime   \n",
       "1      32.465     NaN         Drama, Comedy, Romance   \n",
       "\n",
       "        production_companies production_countries         spoken_languages  \\\n",
       "0  Villealfa Filmproductions              Finland                    suomi   \n",
       "1  Villealfa Filmproductions              Finland  suomi, English, svenska   \n",
       "\n",
       "                                                cast        director  \\\n",
       "0  Kari Helaseppä, Susanna Haavisto, Hannu Kivisa...  Aki Kaurismäki   \n",
       "1  Helmeri Pellonpää, Tanja Talaskivi, Esko Nikka...  Aki Kaurismäki   \n",
       "\n",
       "  director_of_photography         writers        producers music_composer  \n",
       "0           Timo Salminen  Aki Kaurismäki   Aki Kaurismäki            NaN  \n",
       "1           Timo Salminen  Aki Kaurismäki  Mika Kaurismäki            NaN  "
      ]
     },
     "execution_count": 81,
     "metadata": {},
     "output_type": "execute_result"
    }
   ],
   "source": [
    "movies.head(2)"
   ]
  },
  {
   "cell_type": "code",
   "execution_count": 82,
   "id": "be3293c2-2da7-451f-951e-ee89a9cea91f",
   "metadata": {},
   "outputs": [
    {
     "data": {
      "text/plain": [
       "id                                                                         3\n",
       "title                                                    Shadows in Paradise\n",
       "vote_average                                                             7.3\n",
       "vote_count                                                             360.0\n",
       "status                                                              Released\n",
       "release_date                                                      1986-10-17\n",
       "revenue                                                                  0.0\n",
       "runtime                                                                 74.0\n",
       "budget                                                                   0.0\n",
       "imdb_id                                                            tt0092149\n",
       "original_language                                                         fi\n",
       "original_title                                          Varjoja paratiisissa\n",
       "overview                   Nikander, a rubbish collector and would-be ent...\n",
       "popularity                                                            32.465\n",
       "tagline                                                                  NaN\n",
       "genres                                                Drama, Comedy, Romance\n",
       "production_companies                               Villealfa Filmproductions\n",
       "production_countries                                                 Finland\n",
       "spoken_languages                                     suomi, English, svenska\n",
       "cast                       Helmeri Pellonpää, Tanja Talaskivi, Esko Nikka...\n",
       "director                                                      Aki Kaurismäki\n",
       "director_of_photography                                        Timo Salminen\n",
       "writers                                                       Aki Kaurismäki\n",
       "producers                                                    Mika Kaurismäki\n",
       "music_composer                                                           NaN\n",
       "Name: 1, dtype: object"
      ]
     },
     "execution_count": 82,
     "metadata": {},
     "output_type": "execute_result"
    }
   ],
   "source": [
    "movies.iloc[1]"
   ]
  },
  {
   "cell_type": "code",
   "execution_count": 83,
   "id": "58f714a3-fb68-481e-83cf-826faae409ad",
   "metadata": {},
   "outputs": [
    {
     "data": {
      "text/plain": [
       "(952877, 25)"
      ]
     },
     "execution_count": 83,
     "metadata": {},
     "output_type": "execute_result"
    }
   ],
   "source": [
    "movies.shape # movies columns and raws"
   ]
  },
  {
   "cell_type": "code",
   "execution_count": 84,
   "id": "3057737b-9858-439a-aba4-b93a28c8590b",
   "metadata": {},
   "outputs": [],
   "source": [
    "## movies['original_language'].value_counts()"
   ]
  },
  {
   "cell_type": "code",
   "execution_count": 85,
   "id": "912aa609-c610-4995-9975-b92a8900f8ac",
   "metadata": {},
   "outputs": [],
   "source": [
    "# tr_titles = df.loc[df['original_language'] == 'tr', 'original_title']  ## orijinal dili tr olan satırların orijinal title sütunu çekmek\n",
    "# tr_titles"
   ]
  },
  {
   "cell_type": "markdown",
   "id": "1f7a0192-a192-4e0b-ad79-9a0a91a30710",
   "metadata": {},
   "source": [
    "# Tablodan Gereksiz Sütunları Atmak"
   ]
  },
  {
   "cell_type": "code",
   "execution_count": 86,
   "id": "2e6e41f0-5e72-40f3-93a6-cf4c3ce2237b",
   "metadata": {},
   "outputs": [
    {
     "data": {
      "text/plain": [
       "Index(['id', 'title', 'vote_average', 'vote_count', 'status', 'release_date',\n",
       "       'revenue', 'runtime', 'budget', 'imdb_id', 'original_language',\n",
       "       'original_title', 'overview', 'popularity', 'tagline', 'genres',\n",
       "       'production_companies', 'production_countries', 'spoken_languages',\n",
       "       'cast', 'director', 'director_of_photography', 'writers', 'producers',\n",
       "       'music_composer'],\n",
       "      dtype='object')"
      ]
     },
     "execution_count": 86,
     "metadata": {},
     "output_type": "execute_result"
    }
   ],
   "source": [
    "movies.columns"
   ]
  },
  {
   "cell_type": "code",
   "execution_count": 87,
   "id": "4e81f010-a657-4f15-a3d5-e497b21c8510",
   "metadata": {},
   "outputs": [],
   "source": [
    "### Gereksiz Sütunlar : status , runtime , popularity , release_date , revenue, budget, "
   ]
  },
  {
   "cell_type": "code",
   "execution_count": 88,
   "id": "bc53356f-a2c4-442d-9e9e-6253d4388fca",
   "metadata": {},
   "outputs": [],
   "source": [
    "new_movies = movies[['imdb_id','title','overview','genres','cast','director','writers','tagline','production_companies']] # öneri için gerekli özellikler çekildi"
   ]
  },
  {
   "cell_type": "code",
   "execution_count": 89,
   "id": "b6e209cc-f8e8-4825-8aef-1b20cea371d8",
   "metadata": {},
   "outputs": [
    {
     "data": {
      "text/html": [
       "<div>\n",
       "<style scoped>\n",
       "    .dataframe tbody tr th:only-of-type {\n",
       "        vertical-align: middle;\n",
       "    }\n",
       "\n",
       "    .dataframe tbody tr th {\n",
       "        vertical-align: top;\n",
       "    }\n",
       "\n",
       "    .dataframe thead th {\n",
       "        text-align: right;\n",
       "    }\n",
       "</style>\n",
       "<table border=\"1\" class=\"dataframe\">\n",
       "  <thead>\n",
       "    <tr style=\"text-align: right;\">\n",
       "      <th></th>\n",
       "      <th>imdb_id</th>\n",
       "      <th>title</th>\n",
       "      <th>overview</th>\n",
       "      <th>genres</th>\n",
       "      <th>cast</th>\n",
       "      <th>director</th>\n",
       "      <th>writers</th>\n",
       "      <th>tagline</th>\n",
       "      <th>production_companies</th>\n",
       "    </tr>\n",
       "  </thead>\n",
       "  <tbody>\n",
       "    <tr>\n",
       "      <th>0</th>\n",
       "      <td>tt0094675</td>\n",
       "      <td>Ariel</td>\n",
       "      <td>After the coal mine he works at closes and his...</td>\n",
       "      <td>Drama, Comedy, Romance, Crime</td>\n",
       "      <td>Kari Helaseppä, Susanna Haavisto, Hannu Kivisa...</td>\n",
       "      <td>Aki Kaurismäki</td>\n",
       "      <td>Aki Kaurismäki</td>\n",
       "      <td>NaN</td>\n",
       "      <td>Villealfa Filmproductions</td>\n",
       "    </tr>\n",
       "    <tr>\n",
       "      <th>1</th>\n",
       "      <td>tt0092149</td>\n",
       "      <td>Shadows in Paradise</td>\n",
       "      <td>Nikander, a rubbish collector and would-be ent...</td>\n",
       "      <td>Drama, Comedy, Romance</td>\n",
       "      <td>Helmeri Pellonpää, Tanja Talaskivi, Esko Nikka...</td>\n",
       "      <td>Aki Kaurismäki</td>\n",
       "      <td>Aki Kaurismäki</td>\n",
       "      <td>NaN</td>\n",
       "      <td>Villealfa Filmproductions</td>\n",
       "    </tr>\n",
       "  </tbody>\n",
       "</table>\n",
       "</div>"
      ],
      "text/plain": [
       "     imdb_id                title  \\\n",
       "0  tt0094675                Ariel   \n",
       "1  tt0092149  Shadows in Paradise   \n",
       "\n",
       "                                            overview  \\\n",
       "0  After the coal mine he works at closes and his...   \n",
       "1  Nikander, a rubbish collector and would-be ent...   \n",
       "\n",
       "                          genres  \\\n",
       "0  Drama, Comedy, Romance, Crime   \n",
       "1         Drama, Comedy, Romance   \n",
       "\n",
       "                                                cast        director  \\\n",
       "0  Kari Helaseppä, Susanna Haavisto, Hannu Kivisa...  Aki Kaurismäki   \n",
       "1  Helmeri Pellonpää, Tanja Talaskivi, Esko Nikka...  Aki Kaurismäki   \n",
       "\n",
       "          writers tagline       production_companies  \n",
       "0  Aki Kaurismäki     NaN  Villealfa Filmproductions  \n",
       "1  Aki Kaurismäki     NaN  Villealfa Filmproductions  "
      ]
     },
     "execution_count": 89,
     "metadata": {},
     "output_type": "execute_result"
    }
   ],
   "source": [
    "new_movies.head(2)"
   ]
  },
  {
   "cell_type": "code",
   "execution_count": 90,
   "id": "432e852c-3901-427f-a584-ee212fecf8be",
   "metadata": {},
   "outputs": [
    {
     "data": {
      "text/plain": [
       "(952877, 9)"
      ]
     },
     "execution_count": 90,
     "metadata": {},
     "output_type": "execute_result"
    }
   ],
   "source": [
    "new_movies.shape"
   ]
  },
  {
   "cell_type": "code",
   "execution_count": 91,
   "id": "28efe3fa-1132-4e80-bb5a-0365d2818be7",
   "metadata": {},
   "outputs": [
    {
     "data": {
      "text/plain": [
       "imdb_id                 384049\n",
       "title                        7\n",
       "overview                159763\n",
       "genres                  273900\n",
       "cast                    312205\n",
       "director                165432\n",
       "writers                 491287\n",
       "tagline                 811685\n",
       "production_companies    511818\n",
       "dtype: int64"
      ]
     },
     "execution_count": 91,
     "metadata": {},
     "output_type": "execute_result"
    }
   ],
   "source": [
    "new_movies.isnull().sum()"
   ]
  },
  {
   "cell_type": "markdown",
   "id": "a99e3da6-2c80-4c3f-ac8c-343b9a6b41e1",
   "metadata": {},
   "source": [
    "# Boş (Null) verileri doldurmak"
   ]
  },
  {
   "cell_type": "code",
   "execution_count": 92,
   "id": "9851de11-66b1-4089-9453-54b4f92544f1",
   "metadata": {},
   "outputs": [
    {
     "name": "stderr",
     "output_type": "stream",
     "text": [
      "C:\\Users\\fbdog\\AppData\\Local\\Temp\\ipykernel_10376\\1555540785.py:1: SettingWithCopyWarning: \n",
      "A value is trying to be set on a copy of a slice from a DataFrame\n",
      "\n",
      "See the caveats in the documentation: https://pandas.pydata.org/pandas-docs/stable/user_guide/indexing.html#returning-a-view-versus-a-copy\n",
      "  new_movies.dropna(subset=['title'], inplace=True)\n"
     ]
    }
   ],
   "source": [
    "new_movies.dropna(subset=['title'], inplace=True)"
   ]
  },
  {
   "cell_type": "code",
   "execution_count": 93,
   "id": "a3157654-f810-4414-82d5-00ff6e9eaa33",
   "metadata": {},
   "outputs": [
    {
     "data": {
      "text/plain": [
       "imdb_id                 384042\n",
       "title                        0\n",
       "overview                159760\n",
       "genres                  273896\n",
       "cast                    312201\n",
       "director                165429\n",
       "writers                 491282\n",
       "tagline                 811679\n",
       "production_companies    511811\n",
       "dtype: int64"
      ]
     },
     "execution_count": 93,
     "metadata": {},
     "output_type": "execute_result"
    }
   ],
   "source": [
    "new_movies.isnull().sum()"
   ]
  },
  {
   "cell_type": "code",
   "execution_count": 94,
   "id": "a5753db9-0399-4b45-b636-eeb769b3e169",
   "metadata": {},
   "outputs": [
    {
     "data": {
      "text/plain": [
       "(952870, 9)"
      ]
     },
     "execution_count": 94,
     "metadata": {},
     "output_type": "execute_result"
    }
   ],
   "source": [
    "new_movies.shape"
   ]
  },
  {
   "cell_type": "markdown",
   "id": "4efe467d-1cce-4a1a-b50e-b64ef08d37a3",
   "metadata": {},
   "source": [
    "# !!! Burayı pc hafızası yetmediği için geçiçi süreliğine verilerin bi kısmını atıp kontrol etmek için uyguladım\n",
    "Tekrar atılan verileri geri getirebilirim"
   ]
  },
  {
   "cell_type": "code",
   "execution_count": 95,
   "id": "a77c883d-d49f-4dfa-9868-6fe21ca02a2f",
   "metadata": {},
   "outputs": [],
   "source": [
    "num_rows_to_drop = 945000\n",
    "\n",
    "new_movies = new_movies.iloc[:-num_rows_to_drop]\n",
    "new_movies.shape\n",
    "new_movies = new_movies.sort_values(by='title')"
   ]
  },
  {
   "cell_type": "code",
   "execution_count": 96,
   "id": "3f0d8c4a-feaa-4921-abef-69cecc84a787",
   "metadata": {
    "scrolled": true
   },
   "outputs": [
    {
     "name": "stderr",
     "output_type": "stream",
     "text": [
      "C:\\Users\\fbdog\\AppData\\Local\\Temp\\ipykernel_10376\\136150276.py:1: FutureWarning: A value is trying to be set on a copy of a DataFrame or Series through chained assignment using an inplace method.\n",
      "The behavior will change in pandas 3.0. This inplace method will never work because the intermediate object on which we are setting values always behaves as a copy.\n",
      "\n",
      "For example, when doing 'df[col].method(value, inplace=True)', try using 'df.method({col: value}, inplace=True)' or df[col] = df[col].method(value) instead, to perform the operation inplace on the original object.\n",
      "\n",
      "\n",
      "  new_movies['overview'].fillna('No overview available', inplace=True)\n",
      "C:\\Users\\fbdog\\AppData\\Local\\Temp\\ipykernel_10376\\136150276.py:2: FutureWarning: A value is trying to be set on a copy of a DataFrame or Series through chained assignment using an inplace method.\n",
      "The behavior will change in pandas 3.0. This inplace method will never work because the intermediate object on which we are setting values always behaves as a copy.\n",
      "\n",
      "For example, when doing 'df[col].method(value, inplace=True)', try using 'df.method({col: value}, inplace=True)' or df[col] = df[col].method(value) instead, to perform the operation inplace on the original object.\n",
      "\n",
      "\n",
      "  new_movies['genres'].fillna('Unknown', inplace=True)\n",
      "C:\\Users\\fbdog\\AppData\\Local\\Temp\\ipykernel_10376\\136150276.py:3: FutureWarning: A value is trying to be set on a copy of a DataFrame or Series through chained assignment using an inplace method.\n",
      "The behavior will change in pandas 3.0. This inplace method will never work because the intermediate object on which we are setting values always behaves as a copy.\n",
      "\n",
      "For example, when doing 'df[col].method(value, inplace=True)', try using 'df.method({col: value}, inplace=True)' or df[col] = df[col].method(value) instead, to perform the operation inplace on the original object.\n",
      "\n",
      "\n",
      "  new_movies['cast'].fillna('Unknown', inplace=True)\n",
      "C:\\Users\\fbdog\\AppData\\Local\\Temp\\ipykernel_10376\\136150276.py:4: FutureWarning: A value is trying to be set on a copy of a DataFrame or Series through chained assignment using an inplace method.\n",
      "The behavior will change in pandas 3.0. This inplace method will never work because the intermediate object on which we are setting values always behaves as a copy.\n",
      "\n",
      "For example, when doing 'df[col].method(value, inplace=True)', try using 'df.method({col: value}, inplace=True)' or df[col] = df[col].method(value) instead, to perform the operation inplace on the original object.\n",
      "\n",
      "\n",
      "  new_movies['director'].fillna('Unknown', inplace=True)\n",
      "C:\\Users\\fbdog\\AppData\\Local\\Temp\\ipykernel_10376\\136150276.py:5: FutureWarning: A value is trying to be set on a copy of a DataFrame or Series through chained assignment using an inplace method.\n",
      "The behavior will change in pandas 3.0. This inplace method will never work because the intermediate object on which we are setting values always behaves as a copy.\n",
      "\n",
      "For example, when doing 'df[col].method(value, inplace=True)', try using 'df.method({col: value}, inplace=True)' or df[col] = df[col].method(value) instead, to perform the operation inplace on the original object.\n",
      "\n",
      "\n",
      "  new_movies['writers'].fillna('Unknown', inplace=True)\n",
      "C:\\Users\\fbdog\\AppData\\Local\\Temp\\ipykernel_10376\\136150276.py:6: FutureWarning: A value is trying to be set on a copy of a DataFrame or Series through chained assignment using an inplace method.\n",
      "The behavior will change in pandas 3.0. This inplace method will never work because the intermediate object on which we are setting values always behaves as a copy.\n",
      "\n",
      "For example, when doing 'df[col].method(value, inplace=True)', try using 'df.method({col: value}, inplace=True)' or df[col] = df[col].method(value) instead, to perform the operation inplace on the original object.\n",
      "\n",
      "\n",
      "  new_movies['production_companies'].fillna('Unknown', inplace=True)\n",
      "C:\\Users\\fbdog\\AppData\\Local\\Temp\\ipykernel_10376\\136150276.py:7: FutureWarning: A value is trying to be set on a copy of a DataFrame or Series through chained assignment using an inplace method.\n",
      "The behavior will change in pandas 3.0. This inplace method will never work because the intermediate object on which we are setting values always behaves as a copy.\n",
      "\n",
      "For example, when doing 'df[col].method(value, inplace=True)', try using 'df.method({col: value}, inplace=True)' or df[col] = df[col].method(value) instead, to perform the operation inplace on the original object.\n",
      "\n",
      "\n",
      "  new_movies['tagline'].fillna('No tagline', inplace=True)\n",
      "C:\\Users\\fbdog\\AppData\\Local\\Temp\\ipykernel_10376\\136150276.py:9: FutureWarning: A value is trying to be set on a copy of a DataFrame or Series through chained assignment using an inplace method.\n",
      "The behavior will change in pandas 3.0. This inplace method will never work because the intermediate object on which we are setting values always behaves as a copy.\n",
      "\n",
      "For example, when doing 'df[col].method(value, inplace=True)', try using 'df.method({col: value}, inplace=True)' or df[col] = df[col].method(value) instead, to perform the operation inplace on the original object.\n",
      "\n",
      "\n",
      "  new_movies['imdb_id'].fillna('Unknown', inplace=True) ## SONRADAN IMBD SÜTUNU SİLİNEBİLİR.ÇÜNKÜ ID'YE GÖRE SİTEDEN VERİ ÇEKİLECEK\n"
     ]
    }
   ],
   "source": [
    "new_movies['overview'].fillna('No overview available', inplace=True)\n",
    "new_movies['genres'].fillna('Unknown', inplace=True)\n",
    "new_movies['cast'].fillna('Unknown', inplace=True)\n",
    "new_movies['director'].fillna('Unknown', inplace=True)\n",
    "new_movies['writers'].fillna('Unknown', inplace=True)\n",
    "new_movies['production_companies'].fillna('Unknown', inplace=True)\n",
    "new_movies['tagline'].fillna('No tagline', inplace=True)\n",
    "\n",
    "new_movies['imdb_id'].fillna('Unknown', inplace=True) ## SONRADAN IMBD SÜTUNU SİLİNEBİLİR.ÇÜNKÜ ID'YE GÖRE SİTEDEN VERİ ÇEKİLECEK"
   ]
  },
  {
   "cell_type": "code",
   "execution_count": 97,
   "id": "786af1c4-8926-41c8-8497-fb57d3ca76f4",
   "metadata": {},
   "outputs": [
    {
     "data": {
      "text/plain": [
       "imdb_id                 0\n",
       "title                   0\n",
       "overview                0\n",
       "genres                  0\n",
       "cast                    0\n",
       "director                0\n",
       "writers                 0\n",
       "tagline                 0\n",
       "production_companies    0\n",
       "dtype: int64"
      ]
     },
     "execution_count": 97,
     "metadata": {},
     "output_type": "execute_result"
    }
   ],
   "source": [
    "new_movies.isnull().sum()"
   ]
  },
  {
   "cell_type": "markdown",
   "id": "6fde37bd-e248-4a56-947f-ce272b317c32",
   "metadata": {},
   "source": [
    "## Cümle şeklindeki verileri listeye atma"
   ]
  },
  {
   "cell_type": "code",
   "execution_count": 98,
   "id": "89f61e30-94bc-4def-86f1-6173b2c59caf",
   "metadata": {},
   "outputs": [
    {
     "data": {
      "text/plain": [
       "'The funny clown Bratislav Metulskie is found dead in circus \"Apollo\". The retired commissioner 00 Schneider is asked to assume control of the case. Schneider and his aged sidekick Körschgen investigate to find the murderer.'"
      ]
     },
     "execution_count": 98,
     "metadata": {},
     "output_type": "execute_result"
    }
   ],
   "source": [
    "new_movies.iloc[6]['overview']"
   ]
  },
  {
   "cell_type": "code",
   "execution_count": 99,
   "id": "ed4755f8-1240-49cd-8fc9-084237d1d3ba",
   "metadata": {
    "scrolled": true
   },
   "outputs": [
    {
     "data": {
      "text/html": [
       "<div>\n",
       "<style scoped>\n",
       "    .dataframe tbody tr th:only-of-type {\n",
       "        vertical-align: middle;\n",
       "    }\n",
       "\n",
       "    .dataframe tbody tr th {\n",
       "        vertical-align: top;\n",
       "    }\n",
       "\n",
       "    .dataframe thead th {\n",
       "        text-align: right;\n",
       "    }\n",
       "</style>\n",
       "<table border=\"1\" class=\"dataframe\">\n",
       "  <thead>\n",
       "    <tr style=\"text-align: right;\">\n",
       "      <th></th>\n",
       "      <th>imdb_id</th>\n",
       "      <th>title</th>\n",
       "      <th>overview</th>\n",
       "      <th>genres</th>\n",
       "      <th>cast</th>\n",
       "      <th>director</th>\n",
       "      <th>writers</th>\n",
       "      <th>tagline</th>\n",
       "      <th>production_companies</th>\n",
       "    </tr>\n",
       "  </thead>\n",
       "  <tbody>\n",
       "    <tr>\n",
       "      <th>2428</th>\n",
       "      <td>tt1024733</td>\n",
       "      <td>$5 a Day</td>\n",
       "      <td>[After, being, released, from, jail,, the, son...</td>\n",
       "      <td>[Drama,  Comedy]</td>\n",
       "      <td>[Beth Bailey,  Luis Ávalos,  Bridget White,  S...</td>\n",
       "      <td>[Nigel Cole]</td>\n",
       "      <td>[Neal H. Dobrofsky,  Tippi Dobrofsky]</td>\n",
       "      <td>[Relationships, don't, come, cheap!]</td>\n",
       "      <td>[Capitol Films,  Carol Baum Productions,  Gold...</td>\n",
       "    </tr>\n",
       "    <tr>\n",
       "      <th>4967</th>\n",
       "      <td>tt0349047</td>\n",
       "      <td>(T)Raumschiff Surprise - Periode 1</td>\n",
       "      <td>[Hundreds, of, years, after, humans, have, set...</td>\n",
       "      <td>[Comedy,  Science Fiction]</td>\n",
       "      <td>[Heidrun Bartholomäus,  Olaf Danner,  Anja Kli...</td>\n",
       "      <td>[Michael Herbig]</td>\n",
       "      <td>[Rick Kavanian,  Alfons Biedermann,  Michael H...</td>\n",
       "      <td>[No, tagline]</td>\n",
       "      <td>[herbX Film,  Constantin Film]</td>\n",
       "    </tr>\n",
       "    <tr>\n",
       "      <th>6524</th>\n",
       "      <td>tt0092494</td>\n",
       "      <td>*batteries not included</td>\n",
       "      <td>[In, a, soon, to, be, demolished, block, of, a...</td>\n",
       "      <td>[Family,  Comedy,  Fantasy,  Science Fiction]</td>\n",
       "      <td>[John DiSanti,  Dennis Boutsikaris,  David Vas...</td>\n",
       "      <td>[Matthew Robbins]</td>\n",
       "      <td>[Brent Maddock,  Mick Garris,  S.S. Wilson,  B...</td>\n",
       "      <td>[Five, ordinary, people, needed, a, miracle., ...</td>\n",
       "      <td>[Amblin Entertainment,  Universal Pictures]</td>\n",
       "    </tr>\n",
       "    <tr>\n",
       "      <th>4097</th>\n",
       "      <td>tt0049189</td>\n",
       "      <td>...And God Created Woman</td>\n",
       "      <td>[Juliette, Hardy, is, sexual, dynamite,, and, ...</td>\n",
       "      <td>[Drama,  Romance]</td>\n",
       "      <td>[Jane Marken,  Jean Lefebvre,  Jean Tissier,  ...</td>\n",
       "      <td>[Roger Vadim]</td>\n",
       "      <td>[Raoul Lévy,  Roger Vadim]</td>\n",
       "      <td>[...but, the, devil, invented, Brigitte, Bardot!]</td>\n",
       "      <td>[Iéna Productions,  Cocinor,  Crow Productions]</td>\n",
       "    </tr>\n",
       "    <tr>\n",
       "      <th>1543</th>\n",
       "      <td>tt0055716</td>\n",
       "      <td>...And Your Love Too</td>\n",
       "      <td>[On, August, 13th,, 1961, -, the, night, that,...</td>\n",
       "      <td>[Drama,  Romance]</td>\n",
       "      <td>[Kati Székely,  Maria Besendahl,  Katharina Li...</td>\n",
       "      <td>[Frank Vogel]</td>\n",
       "      <td>[Willi Brückner,  Paul Wiens]</td>\n",
       "      <td>[No, tagline]</td>\n",
       "      <td>[DEFA]</td>\n",
       "    </tr>\n",
       "  </tbody>\n",
       "</table>\n",
       "</div>"
      ],
      "text/plain": [
       "        imdb_id                               title  \\\n",
       "2428  tt1024733                            $5 a Day   \n",
       "4967  tt0349047  (T)Raumschiff Surprise - Periode 1   \n",
       "6524  tt0092494             *batteries not included   \n",
       "4097  tt0049189            ...And God Created Woman   \n",
       "1543  tt0055716                ...And Your Love Too   \n",
       "\n",
       "                                               overview  \\\n",
       "2428  [After, being, released, from, jail,, the, son...   \n",
       "4967  [Hundreds, of, years, after, humans, have, set...   \n",
       "6524  [In, a, soon, to, be, demolished, block, of, a...   \n",
       "4097  [Juliette, Hardy, is, sexual, dynamite,, and, ...   \n",
       "1543  [On, August, 13th,, 1961, -, the, night, that,...   \n",
       "\n",
       "                                             genres  \\\n",
       "2428                               [Drama,  Comedy]   \n",
       "4967                     [Comedy,  Science Fiction]   \n",
       "6524  [Family,  Comedy,  Fantasy,  Science Fiction]   \n",
       "4097                              [Drama,  Romance]   \n",
       "1543                              [Drama,  Romance]   \n",
       "\n",
       "                                                   cast           director  \\\n",
       "2428  [Beth Bailey,  Luis Ávalos,  Bridget White,  S...       [Nigel Cole]   \n",
       "4967  [Heidrun Bartholomäus,  Olaf Danner,  Anja Kli...   [Michael Herbig]   \n",
       "6524  [John DiSanti,  Dennis Boutsikaris,  David Vas...  [Matthew Robbins]   \n",
       "4097  [Jane Marken,  Jean Lefebvre,  Jean Tissier,  ...      [Roger Vadim]   \n",
       "1543  [Kati Székely,  Maria Besendahl,  Katharina Li...      [Frank Vogel]   \n",
       "\n",
       "                                                writers  \\\n",
       "2428              [Neal H. Dobrofsky,  Tippi Dobrofsky]   \n",
       "4967  [Rick Kavanian,  Alfons Biedermann,  Michael H...   \n",
       "6524  [Brent Maddock,  Mick Garris,  S.S. Wilson,  B...   \n",
       "4097                         [Raoul Lévy,  Roger Vadim]   \n",
       "1543                      [Willi Brückner,  Paul Wiens]   \n",
       "\n",
       "                                                tagline  \\\n",
       "2428               [Relationships, don't, come, cheap!]   \n",
       "4967                                      [No, tagline]   \n",
       "6524  [Five, ordinary, people, needed, a, miracle., ...   \n",
       "4097  [...but, the, devil, invented, Brigitte, Bardot!]   \n",
       "1543                                      [No, tagline]   \n",
       "\n",
       "                                   production_companies  \n",
       "2428  [Capitol Films,  Carol Baum Productions,  Gold...  \n",
       "4967                     [herbX Film,  Constantin Film]  \n",
       "6524        [Amblin Entertainment,  Universal Pictures]  \n",
       "4097    [Iéna Productions,  Cocinor,  Crow Productions]  \n",
       "1543                                             [DEFA]  "
      ]
     },
     "execution_count": 99,
     "metadata": {},
     "output_type": "execute_result"
    }
   ],
   "source": [
    "new_movies['overview'] = new_movies['overview'].apply(lambda x:x.split())\n",
    "new_movies['tagline'] = new_movies['tagline'].apply(lambda x:x.split())\n",
    "new_movies['genres'] = new_movies['genres'].apply(lambda x:x.split(','))\n",
    "new_movies['cast'] = new_movies['cast'].apply(lambda x:x.split(','))\n",
    "new_movies['director'] = new_movies['director'].apply(lambda x:x.split(','))\n",
    "new_movies['writers'] = new_movies['writers'].apply(lambda x:x.split(','))\n",
    "new_movies['production_companies'] = new_movies['production_companies'].apply(lambda x:x.split(','))\n",
    "\n",
    "new_movies.head()"
   ]
  },
  {
   "cell_type": "markdown",
   "id": "28812ce5-0258-47a2-92fe-5dc8403d7028",
   "metadata": {},
   "source": [
    "## Oluşan Listelerdeki isimlerin arasındaki boşlukları silme"
   ]
  },
  {
   "cell_type": "code",
   "execution_count": 100,
   "id": "e6446d7c-fad3-40a6-87ce-53d49efbf4d8",
   "metadata": {
    "scrolled": true
   },
   "outputs": [
    {
     "data": {
      "text/plain": [
       "['JohnDiSanti',\n",
       " 'DennisBoutsikaris',\n",
       " 'DavidVasquez',\n",
       " 'CharlesRaymond',\n",
       " 'MacIntyreDixon',\n",
       " 'HumeCronyn',\n",
       " 'JoeHamer',\n",
       " 'WendySchaal',\n",
       " 'JudyGrafe',\n",
       " 'JonImparato',\n",
       " 'DickMartinsen',\n",
       " 'TomAldredge',\n",
       " 'SusanShoffner',\n",
       " 'JohnArceri',\n",
       " 'JamesLeGros',\n",
       " 'AliceBeardsley',\n",
       " 'JoséAngelSantana',\n",
       " 'DorisBelack',\n",
       " 'MichaelGreene',\n",
       " 'ShellyKurtz',\n",
       " 'FrankMcRae',\n",
       " 'JaneHoffman',\n",
       " 'JessicaTandy',\n",
       " 'JohnPankow',\n",
       " 'H.ClayDear',\n",
       " 'ElizabethPeña',\n",
       " 'RonaldL.Schwary',\n",
       " 'MichaelCarmine',\n",
       " 'RikiColon',\n",
       " 'HowardRenensland']"
      ]
     },
     "execution_count": 100,
     "metadata": {},
     "output_type": "execute_result"
    }
   ],
   "source": [
    "#Aki Kaurismaki\n",
    "#AkiKaurismaki\n",
    "\n",
    "def remove_inner_spaces(lst):\n",
    "    return [word.replace(' ', '') for word in lst]\n",
    "\n",
    "new_movies.loc[:, 'cast'] = new_movies['cast'].apply(remove_inner_spaces)\n",
    "new_movies.loc[:, 'director'] = new_movies['director'].apply(remove_inner_spaces)\n",
    "new_movies.loc[:, 'writers'] = new_movies['writers'].apply(remove_inner_spaces)\n",
    "new_movies.loc[:, 'genres'] = new_movies['genres'].apply(remove_inner_spaces)\n",
    "new_movies.loc[:, 'production_companies'] = new_movies['production_companies'].apply(remove_inner_spaces)\n",
    "\n",
    "new_movies.iloc[2]['cast']"
   ]
  },
  {
   "cell_type": "markdown",
   "id": "6467d0ac-12f7-4222-b51f-8c467ca43fd7",
   "metadata": {},
   "source": [
    "# Oluşan Listeleri \"Tags\" adlı yeni sütuna atmak"
   ]
  },
  {
   "cell_type": "code",
   "execution_count": 101,
   "id": "f1e7ceec-6119-44d2-ba49-36558aae818e",
   "metadata": {},
   "outputs": [],
   "source": [
    "new_movies['tags'] = new_movies['overview']+new_movies['genres']+new_movies['cast']+new_movies['director']+new_movies['writers']+new_movies['tagline']+new_movies['production_companies']"
   ]
  },
  {
   "cell_type": "code",
   "execution_count": 102,
   "id": "b5865e87-99fe-4621-aebc-56c2d61e376c",
   "metadata": {
    "scrolled": true
   },
   "outputs": [
    {
     "data": {
      "text/html": [
       "<div>\n",
       "<style scoped>\n",
       "    .dataframe tbody tr th:only-of-type {\n",
       "        vertical-align: middle;\n",
       "    }\n",
       "\n",
       "    .dataframe tbody tr th {\n",
       "        vertical-align: top;\n",
       "    }\n",
       "\n",
       "    .dataframe thead th {\n",
       "        text-align: right;\n",
       "    }\n",
       "</style>\n",
       "<table border=\"1\" class=\"dataframe\">\n",
       "  <thead>\n",
       "    <tr style=\"text-align: right;\">\n",
       "      <th></th>\n",
       "      <th>imdb_id</th>\n",
       "      <th>title</th>\n",
       "      <th>overview</th>\n",
       "      <th>genres</th>\n",
       "      <th>cast</th>\n",
       "      <th>director</th>\n",
       "      <th>writers</th>\n",
       "      <th>tagline</th>\n",
       "      <th>production_companies</th>\n",
       "      <th>tags</th>\n",
       "    </tr>\n",
       "  </thead>\n",
       "  <tbody>\n",
       "    <tr>\n",
       "      <th>2428</th>\n",
       "      <td>tt1024733</td>\n",
       "      <td>$5 a Day</td>\n",
       "      <td>[After, being, released, from, jail,, the, son...</td>\n",
       "      <td>[Drama, Comedy]</td>\n",
       "      <td>[BethBailey, LuisÁvalos, BridgetWhite, SharonS...</td>\n",
       "      <td>[NigelCole]</td>\n",
       "      <td>[NealH.Dobrofsky, TippiDobrofsky]</td>\n",
       "      <td>[Relationships, don't, come, cheap!]</td>\n",
       "      <td>[CapitolFilms, CarolBaumProductions, Goldenrin...</td>\n",
       "      <td>[After, being, released, from, jail,, the, son...</td>\n",
       "    </tr>\n",
       "    <tr>\n",
       "      <th>4967</th>\n",
       "      <td>tt0349047</td>\n",
       "      <td>(T)Raumschiff Surprise - Periode 1</td>\n",
       "      <td>[Hundreds, of, years, after, humans, have, set...</td>\n",
       "      <td>[Comedy, ScienceFiction]</td>\n",
       "      <td>[HeidrunBartholomäus, OlafDanner, AnjaKling, R...</td>\n",
       "      <td>[MichaelHerbig]</td>\n",
       "      <td>[RickKavanian, AlfonsBiedermann, MichaelHerbig]</td>\n",
       "      <td>[No, tagline]</td>\n",
       "      <td>[herbXFilm, ConstantinFilm]</td>\n",
       "      <td>[Hundreds, of, years, after, humans, have, set...</td>\n",
       "    </tr>\n",
       "    <tr>\n",
       "      <th>6524</th>\n",
       "      <td>tt0092494</td>\n",
       "      <td>*batteries not included</td>\n",
       "      <td>[In, a, soon, to, be, demolished, block, of, a...</td>\n",
       "      <td>[Family, Comedy, Fantasy, ScienceFiction]</td>\n",
       "      <td>[JohnDiSanti, DennisBoutsikaris, DavidVasquez,...</td>\n",
       "      <td>[MatthewRobbins]</td>\n",
       "      <td>[BrentMaddock, MickGarris, S.S.Wilson, BradBir...</td>\n",
       "      <td>[Five, ordinary, people, needed, a, miracle., ...</td>\n",
       "      <td>[AmblinEntertainment, UniversalPictures]</td>\n",
       "      <td>[In, a, soon, to, be, demolished, block, of, a...</td>\n",
       "    </tr>\n",
       "    <tr>\n",
       "      <th>4097</th>\n",
       "      <td>tt0049189</td>\n",
       "      <td>...And God Created Woman</td>\n",
       "      <td>[Juliette, Hardy, is, sexual, dynamite,, and, ...</td>\n",
       "      <td>[Drama, Romance]</td>\n",
       "      <td>[JaneMarken, JeanLefebvre, JeanTissier, Carlos...</td>\n",
       "      <td>[RogerVadim]</td>\n",
       "      <td>[RaoulLévy, RogerVadim]</td>\n",
       "      <td>[...but, the, devil, invented, Brigitte, Bardot!]</td>\n",
       "      <td>[IénaProductions, Cocinor, CrowProductions]</td>\n",
       "      <td>[Juliette, Hardy, is, sexual, dynamite,, and, ...</td>\n",
       "    </tr>\n",
       "    <tr>\n",
       "      <th>1543</th>\n",
       "      <td>tt0055716</td>\n",
       "      <td>...And Your Love Too</td>\n",
       "      <td>[On, August, 13th,, 1961, -, the, night, that,...</td>\n",
       "      <td>[Drama, Romance]</td>\n",
       "      <td>[KatiSzékely, MariaBesendahl, KatharinaLind, B...</td>\n",
       "      <td>[FrankVogel]</td>\n",
       "      <td>[WilliBrückner, PaulWiens]</td>\n",
       "      <td>[No, tagline]</td>\n",
       "      <td>[DEFA]</td>\n",
       "      <td>[On, August, 13th,, 1961, -, the, night, that,...</td>\n",
       "    </tr>\n",
       "  </tbody>\n",
       "</table>\n",
       "</div>"
      ],
      "text/plain": [
       "        imdb_id                               title  \\\n",
       "2428  tt1024733                            $5 a Day   \n",
       "4967  tt0349047  (T)Raumschiff Surprise - Periode 1   \n",
       "6524  tt0092494             *batteries not included   \n",
       "4097  tt0049189            ...And God Created Woman   \n",
       "1543  tt0055716                ...And Your Love Too   \n",
       "\n",
       "                                               overview  \\\n",
       "2428  [After, being, released, from, jail,, the, son...   \n",
       "4967  [Hundreds, of, years, after, humans, have, set...   \n",
       "6524  [In, a, soon, to, be, demolished, block, of, a...   \n",
       "4097  [Juliette, Hardy, is, sexual, dynamite,, and, ...   \n",
       "1543  [On, August, 13th,, 1961, -, the, night, that,...   \n",
       "\n",
       "                                         genres  \\\n",
       "2428                            [Drama, Comedy]   \n",
       "4967                   [Comedy, ScienceFiction]   \n",
       "6524  [Family, Comedy, Fantasy, ScienceFiction]   \n",
       "4097                           [Drama, Romance]   \n",
       "1543                           [Drama, Romance]   \n",
       "\n",
       "                                                   cast          director  \\\n",
       "2428  [BethBailey, LuisÁvalos, BridgetWhite, SharonS...       [NigelCole]   \n",
       "4967  [HeidrunBartholomäus, OlafDanner, AnjaKling, R...   [MichaelHerbig]   \n",
       "6524  [JohnDiSanti, DennisBoutsikaris, DavidVasquez,...  [MatthewRobbins]   \n",
       "4097  [JaneMarken, JeanLefebvre, JeanTissier, Carlos...      [RogerVadim]   \n",
       "1543  [KatiSzékely, MariaBesendahl, KatharinaLind, B...      [FrankVogel]   \n",
       "\n",
       "                                                writers  \\\n",
       "2428                  [NealH.Dobrofsky, TippiDobrofsky]   \n",
       "4967    [RickKavanian, AlfonsBiedermann, MichaelHerbig]   \n",
       "6524  [BrentMaddock, MickGarris, S.S.Wilson, BradBir...   \n",
       "4097                            [RaoulLévy, RogerVadim]   \n",
       "1543                         [WilliBrückner, PaulWiens]   \n",
       "\n",
       "                                                tagline  \\\n",
       "2428               [Relationships, don't, come, cheap!]   \n",
       "4967                                      [No, tagline]   \n",
       "6524  [Five, ordinary, people, needed, a, miracle., ...   \n",
       "4097  [...but, the, devil, invented, Brigitte, Bardot!]   \n",
       "1543                                      [No, tagline]   \n",
       "\n",
       "                                   production_companies  \\\n",
       "2428  [CapitolFilms, CarolBaumProductions, Goldenrin...   \n",
       "4967                        [herbXFilm, ConstantinFilm]   \n",
       "6524           [AmblinEntertainment, UniversalPictures]   \n",
       "4097        [IénaProductions, Cocinor, CrowProductions]   \n",
       "1543                                             [DEFA]   \n",
       "\n",
       "                                                   tags  \n",
       "2428  [After, being, released, from, jail,, the, son...  \n",
       "4967  [Hundreds, of, years, after, humans, have, set...  \n",
       "6524  [In, a, soon, to, be, demolished, block, of, a...  \n",
       "4097  [Juliette, Hardy, is, sexual, dynamite,, and, ...  \n",
       "1543  [On, August, 13th,, 1961, -, the, night, that,...  "
      ]
     },
     "execution_count": 102,
     "metadata": {},
     "output_type": "execute_result"
    }
   ],
   "source": [
    "new_movies.head()"
   ]
  },
  {
   "cell_type": "code",
   "execution_count": 103,
   "id": "95f2e564-e3c2-4b20-86c1-effd0cb66912",
   "metadata": {
    "scrolled": true
   },
   "outputs": [
    {
     "data": {
      "text/plain": [
       "['In',\n",
       " 'a',\n",
       " 'soon',\n",
       " 'to',\n",
       " 'be',\n",
       " 'demolished',\n",
       " 'block',\n",
       " 'of',\n",
       " 'apartments,',\n",
       " 'the',\n",
       " 'residents',\n",
       " 'resist',\n",
       " 'the',\n",
       " 'criminal',\n",
       " 'methods',\n",
       " 'used',\n",
       " 'to',\n",
       " 'force',\n",
       " 'them',\n",
       " 'to',\n",
       " 'leave',\n",
       " 'so',\n",
       " 'a',\n",
       " 'greedy',\n",
       " 'tycoon',\n",
       " 'can',\n",
       " 'build',\n",
       " 'his',\n",
       " 'new',\n",
       " 'skyscraper.',\n",
       " 'When',\n",
       " 'tiny',\n",
       " 'mechanical',\n",
       " 'aliens',\n",
       " 'land',\n",
       " 'for',\n",
       " 'a',\n",
       " 'recharge,',\n",
       " 'they',\n",
       " 'decide',\n",
       " 'to',\n",
       " 'stay',\n",
       " 'and',\n",
       " 'help',\n",
       " 'out.',\n",
       " 'Family',\n",
       " 'Comedy',\n",
       " 'Fantasy',\n",
       " 'ScienceFiction',\n",
       " 'JohnDiSanti',\n",
       " 'DennisBoutsikaris',\n",
       " 'DavidVasquez',\n",
       " 'CharlesRaymond',\n",
       " 'MacIntyreDixon',\n",
       " 'HumeCronyn',\n",
       " 'JoeHamer',\n",
       " 'WendySchaal',\n",
       " 'JudyGrafe',\n",
       " 'JonImparato',\n",
       " 'DickMartinsen',\n",
       " 'TomAldredge',\n",
       " 'SusanShoffner',\n",
       " 'JohnArceri',\n",
       " 'JamesLeGros',\n",
       " 'AliceBeardsley',\n",
       " 'JoséAngelSantana',\n",
       " 'DorisBelack',\n",
       " 'MichaelGreene',\n",
       " 'ShellyKurtz',\n",
       " 'FrankMcRae',\n",
       " 'JaneHoffman',\n",
       " 'JessicaTandy',\n",
       " 'JohnPankow',\n",
       " 'H.ClayDear',\n",
       " 'ElizabethPeña',\n",
       " 'RonaldL.Schwary',\n",
       " 'MichaelCarmine',\n",
       " 'RikiColon',\n",
       " 'HowardRenensland',\n",
       " 'MatthewRobbins',\n",
       " 'BrentMaddock',\n",
       " 'MickGarris',\n",
       " 'S.S.Wilson',\n",
       " 'BradBird',\n",
       " 'MatthewRobbins',\n",
       " 'Five',\n",
       " 'ordinary',\n",
       " 'people',\n",
       " 'needed',\n",
       " 'a',\n",
       " 'miracle.',\n",
       " 'Then',\n",
       " 'one',\n",
       " 'night,',\n",
       " 'Faye',\n",
       " 'Riley',\n",
       " 'left',\n",
       " 'the',\n",
       " 'window',\n",
       " 'open.',\n",
       " 'AmblinEntertainment',\n",
       " 'UniversalPictures']"
      ]
     },
     "execution_count": 103,
     "metadata": {},
     "output_type": "execute_result"
    }
   ],
   "source": [
    "new_movies.iloc[2]['tags']"
   ]
  },
  {
   "cell_type": "markdown",
   "id": "59f21d37-89cc-4223-9687-93addb373afe",
   "metadata": {},
   "source": [
    "## Güncel DataFramei oluşturmak"
   ]
  },
  {
   "cell_type": "code",
   "execution_count": 104,
   "id": "39d13588-616b-4e3e-b896-833df0f29cd4",
   "metadata": {},
   "outputs": [],
   "source": [
    "new_df = new_movies[['imdb_id','title','tags']]"
   ]
  },
  {
   "cell_type": "code",
   "execution_count": 105,
   "id": "c1ac382d-821b-4ebd-9736-5d87e6823b96",
   "metadata": {},
   "outputs": [
    {
     "data": {
      "text/html": [
       "<div>\n",
       "<style scoped>\n",
       "    .dataframe tbody tr th:only-of-type {\n",
       "        vertical-align: middle;\n",
       "    }\n",
       "\n",
       "    .dataframe tbody tr th {\n",
       "        vertical-align: top;\n",
       "    }\n",
       "\n",
       "    .dataframe thead th {\n",
       "        text-align: right;\n",
       "    }\n",
       "</style>\n",
       "<table border=\"1\" class=\"dataframe\">\n",
       "  <thead>\n",
       "    <tr style=\"text-align: right;\">\n",
       "      <th></th>\n",
       "      <th>imdb_id</th>\n",
       "      <th>title</th>\n",
       "      <th>tags</th>\n",
       "    </tr>\n",
       "  </thead>\n",
       "  <tbody>\n",
       "    <tr>\n",
       "      <th>2428</th>\n",
       "      <td>tt1024733</td>\n",
       "      <td>$5 a Day</td>\n",
       "      <td>[After, being, released, from, jail,, the, son...</td>\n",
       "    </tr>\n",
       "    <tr>\n",
       "      <th>4967</th>\n",
       "      <td>tt0349047</td>\n",
       "      <td>(T)Raumschiff Surprise - Periode 1</td>\n",
       "      <td>[Hundreds, of, years, after, humans, have, set...</td>\n",
       "    </tr>\n",
       "    <tr>\n",
       "      <th>6524</th>\n",
       "      <td>tt0092494</td>\n",
       "      <td>*batteries not included</td>\n",
       "      <td>[In, a, soon, to, be, demolished, block, of, a...</td>\n",
       "    </tr>\n",
       "    <tr>\n",
       "      <th>4097</th>\n",
       "      <td>tt0049189</td>\n",
       "      <td>...And God Created Woman</td>\n",
       "      <td>[Juliette, Hardy, is, sexual, dynamite,, and, ...</td>\n",
       "    </tr>\n",
       "    <tr>\n",
       "      <th>1543</th>\n",
       "      <td>tt0055716</td>\n",
       "      <td>...And Your Love Too</td>\n",
       "      <td>[On, August, 13th,, 1961, -, the, night, that,...</td>\n",
       "    </tr>\n",
       "  </tbody>\n",
       "</table>\n",
       "</div>"
      ],
      "text/plain": [
       "        imdb_id                               title  \\\n",
       "2428  tt1024733                            $5 a Day   \n",
       "4967  tt0349047  (T)Raumschiff Surprise - Periode 1   \n",
       "6524  tt0092494             *batteries not included   \n",
       "4097  tt0049189            ...And God Created Woman   \n",
       "1543  tt0055716                ...And Your Love Too   \n",
       "\n",
       "                                                   tags  \n",
       "2428  [After, being, released, from, jail,, the, son...  \n",
       "4967  [Hundreds, of, years, after, humans, have, set...  \n",
       "6524  [In, a, soon, to, be, demolished, block, of, a...  \n",
       "4097  [Juliette, Hardy, is, sexual, dynamite,, and, ...  \n",
       "1543  [On, August, 13th,, 1961, -, the, night, that,...  "
      ]
     },
     "execution_count": 105,
     "metadata": {},
     "output_type": "execute_result"
    }
   ],
   "source": [
    "new_df.head()"
   ]
  },
  {
   "cell_type": "markdown",
   "id": "39aeef4d-f503-4f78-9b2b-c219c568925f",
   "metadata": {},
   "source": [
    "### tags satırındaki listeyi tek bir cümle haline getirmek"
   ]
  },
  {
   "cell_type": "code",
   "execution_count": 106,
   "id": "0fae8321-1d1c-48ec-bf38-96cf9878d416",
   "metadata": {},
   "outputs": [
    {
     "name": "stderr",
     "output_type": "stream",
     "text": [
      "C:\\Users\\fbdog\\AppData\\Local\\Temp\\ipykernel_10376\\1955922539.py:1: SettingWithCopyWarning: \n",
      "A value is trying to be set on a copy of a slice from a DataFrame.\n",
      "Try using .loc[row_indexer,col_indexer] = value instead\n",
      "\n",
      "See the caveats in the documentation: https://pandas.pydata.org/pandas-docs/stable/user_guide/indexing.html#returning-a-view-versus-a-copy\n",
      "  new_df['tags'] = new_df['tags'].apply(lambda x: \" \".join(x))\n"
     ]
    },
    {
     "data": {
      "text/html": [
       "<div>\n",
       "<style scoped>\n",
       "    .dataframe tbody tr th:only-of-type {\n",
       "        vertical-align: middle;\n",
       "    }\n",
       "\n",
       "    .dataframe tbody tr th {\n",
       "        vertical-align: top;\n",
       "    }\n",
       "\n",
       "    .dataframe thead th {\n",
       "        text-align: right;\n",
       "    }\n",
       "</style>\n",
       "<table border=\"1\" class=\"dataframe\">\n",
       "  <thead>\n",
       "    <tr style=\"text-align: right;\">\n",
       "      <th></th>\n",
       "      <th>imdb_id</th>\n",
       "      <th>title</th>\n",
       "      <th>tags</th>\n",
       "    </tr>\n",
       "  </thead>\n",
       "  <tbody>\n",
       "    <tr>\n",
       "      <th>2428</th>\n",
       "      <td>tt1024733</td>\n",
       "      <td>$5 a Day</td>\n",
       "      <td>After being released from jail, the son of a c...</td>\n",
       "    </tr>\n",
       "    <tr>\n",
       "      <th>4967</th>\n",
       "      <td>tt0349047</td>\n",
       "      <td>(T)Raumschiff Surprise - Periode 1</td>\n",
       "      <td>Hundreds of years after humans have settled on...</td>\n",
       "    </tr>\n",
       "    <tr>\n",
       "      <th>6524</th>\n",
       "      <td>tt0092494</td>\n",
       "      <td>*batteries not included</td>\n",
       "      <td>In a soon to be demolished block of apartments...</td>\n",
       "    </tr>\n",
       "    <tr>\n",
       "      <th>4097</th>\n",
       "      <td>tt0049189</td>\n",
       "      <td>...And God Created Woman</td>\n",
       "      <td>Juliette Hardy is sexual dynamite, and has the...</td>\n",
       "    </tr>\n",
       "    <tr>\n",
       "      <th>1543</th>\n",
       "      <td>tt0055716</td>\n",
       "      <td>...And Your Love Too</td>\n",
       "      <td>On August 13th, 1961 - the night that the Berl...</td>\n",
       "    </tr>\n",
       "  </tbody>\n",
       "</table>\n",
       "</div>"
      ],
      "text/plain": [
       "        imdb_id                               title  \\\n",
       "2428  tt1024733                            $5 a Day   \n",
       "4967  tt0349047  (T)Raumschiff Surprise - Periode 1   \n",
       "6524  tt0092494             *batteries not included   \n",
       "4097  tt0049189            ...And God Created Woman   \n",
       "1543  tt0055716                ...And Your Love Too   \n",
       "\n",
       "                                                   tags  \n",
       "2428  After being released from jail, the son of a c...  \n",
       "4967  Hundreds of years after humans have settled on...  \n",
       "6524  In a soon to be demolished block of apartments...  \n",
       "4097  Juliette Hardy is sexual dynamite, and has the...  \n",
       "1543  On August 13th, 1961 - the night that the Berl...  "
      ]
     },
     "execution_count": 106,
     "metadata": {},
     "output_type": "execute_result"
    }
   ],
   "source": [
    "new_df['tags'] = new_df['tags'].apply(lambda x: \" \".join(x))\n",
    "new_df.head()"
   ]
  },
  {
   "cell_type": "code",
   "execution_count": 107,
   "id": "67737ffd-7d60-4c96-8195-ecec5e920799",
   "metadata": {},
   "outputs": [
    {
     "data": {
      "text/plain": [
       "'In a soon to be demolished block of apartments, the residents resist the criminal methods used to force them to leave so a greedy tycoon can build his new skyscraper. When tiny mechanical aliens land for a recharge, they decide to stay and help out. Family Comedy Fantasy ScienceFiction JohnDiSanti DennisBoutsikaris DavidVasquez CharlesRaymond MacIntyreDixon HumeCronyn JoeHamer WendySchaal JudyGrafe JonImparato DickMartinsen TomAldredge SusanShoffner JohnArceri JamesLeGros AliceBeardsley JoséAngelSantana DorisBelack MichaelGreene ShellyKurtz FrankMcRae JaneHoffman JessicaTandy JohnPankow H.ClayDear ElizabethPeña RonaldL.Schwary MichaelCarmine RikiColon HowardRenensland MatthewRobbins BrentMaddock MickGarris S.S.Wilson BradBird MatthewRobbins Five ordinary people needed a miracle. Then one night, Faye Riley left the window open. AmblinEntertainment UniversalPictures'"
      ]
     },
     "execution_count": 107,
     "metadata": {},
     "output_type": "execute_result"
    }
   ],
   "source": [
    "new_df.iloc[2]['tags']"
   ]
  },
  {
   "cell_type": "markdown",
   "id": "fc97f653-e654-442c-8b43-4001685bb854",
   "metadata": {},
   "source": [
    "## Büyük küçük harf çatışmasını önlemek"
   ]
  },
  {
   "cell_type": "code",
   "execution_count": 108,
   "id": "7baa3c50-0a88-45a3-b86c-8330322c78eb",
   "metadata": {},
   "outputs": [
    {
     "name": "stderr",
     "output_type": "stream",
     "text": [
      "C:\\Users\\fbdog\\AppData\\Local\\Temp\\ipykernel_10376\\883946691.py:1: SettingWithCopyWarning: \n",
      "A value is trying to be set on a copy of a slice from a DataFrame.\n",
      "Try using .loc[row_indexer,col_indexer] = value instead\n",
      "\n",
      "See the caveats in the documentation: https://pandas.pydata.org/pandas-docs/stable/user_guide/indexing.html#returning-a-view-versus-a-copy\n",
      "  new_df['tags'] = new_df['tags'].apply(lambda x: x.lower())\n"
     ]
    },
    {
     "data": {
      "text/html": [
       "<div>\n",
       "<style scoped>\n",
       "    .dataframe tbody tr th:only-of-type {\n",
       "        vertical-align: middle;\n",
       "    }\n",
       "\n",
       "    .dataframe tbody tr th {\n",
       "        vertical-align: top;\n",
       "    }\n",
       "\n",
       "    .dataframe thead th {\n",
       "        text-align: right;\n",
       "    }\n",
       "</style>\n",
       "<table border=\"1\" class=\"dataframe\">\n",
       "  <thead>\n",
       "    <tr style=\"text-align: right;\">\n",
       "      <th></th>\n",
       "      <th>imdb_id</th>\n",
       "      <th>title</th>\n",
       "      <th>tags</th>\n",
       "    </tr>\n",
       "  </thead>\n",
       "  <tbody>\n",
       "    <tr>\n",
       "      <th>2428</th>\n",
       "      <td>tt1024733</td>\n",
       "      <td>$5 a Day</td>\n",
       "      <td>after being released from jail, the son of a c...</td>\n",
       "    </tr>\n",
       "    <tr>\n",
       "      <th>4967</th>\n",
       "      <td>tt0349047</td>\n",
       "      <td>(T)Raumschiff Surprise - Periode 1</td>\n",
       "      <td>hundreds of years after humans have settled on...</td>\n",
       "    </tr>\n",
       "    <tr>\n",
       "      <th>6524</th>\n",
       "      <td>tt0092494</td>\n",
       "      <td>*batteries not included</td>\n",
       "      <td>in a soon to be demolished block of apartments...</td>\n",
       "    </tr>\n",
       "    <tr>\n",
       "      <th>4097</th>\n",
       "      <td>tt0049189</td>\n",
       "      <td>...And God Created Woman</td>\n",
       "      <td>juliette hardy is sexual dynamite, and has the...</td>\n",
       "    </tr>\n",
       "    <tr>\n",
       "      <th>1543</th>\n",
       "      <td>tt0055716</td>\n",
       "      <td>...And Your Love Too</td>\n",
       "      <td>on august 13th, 1961 - the night that the berl...</td>\n",
       "    </tr>\n",
       "  </tbody>\n",
       "</table>\n",
       "</div>"
      ],
      "text/plain": [
       "        imdb_id                               title  \\\n",
       "2428  tt1024733                            $5 a Day   \n",
       "4967  tt0349047  (T)Raumschiff Surprise - Periode 1   \n",
       "6524  tt0092494             *batteries not included   \n",
       "4097  tt0049189            ...And God Created Woman   \n",
       "1543  tt0055716                ...And Your Love Too   \n",
       "\n",
       "                                                   tags  \n",
       "2428  after being released from jail, the son of a c...  \n",
       "4967  hundreds of years after humans have settled on...  \n",
       "6524  in a soon to be demolished block of apartments...  \n",
       "4097  juliette hardy is sexual dynamite, and has the...  \n",
       "1543  on august 13th, 1961 - the night that the berl...  "
      ]
     },
     "execution_count": 108,
     "metadata": {},
     "output_type": "execute_result"
    }
   ],
   "source": [
    "new_df['tags'] = new_df['tags'].apply(lambda x: x.lower())\n",
    "new_df.head()"
   ]
  },
  {
   "cell_type": "code",
   "execution_count": 109,
   "id": "4b7d7810-7bfa-431e-ae24-58b9b7e7cb71",
   "metadata": {},
   "outputs": [
    {
     "data": {
      "text/plain": [
       "'in a soon to be demolished block of apartments, the residents resist the criminal methods used to force them to leave so a greedy tycoon can build his new skyscraper. when tiny mechanical aliens land for a recharge, they decide to stay and help out. family comedy fantasy sciencefiction johndisanti dennisboutsikaris davidvasquez charlesraymond macintyredixon humecronyn joehamer wendyschaal judygrafe jonimparato dickmartinsen tomaldredge susanshoffner johnarceri jameslegros alicebeardsley joséangelsantana dorisbelack michaelgreene shellykurtz frankmcrae janehoffman jessicatandy johnpankow h.claydear elizabethpeña ronaldl.schwary michaelcarmine rikicolon howardrenensland matthewrobbins brentmaddock mickgarris s.s.wilson bradbird matthewrobbins five ordinary people needed a miracle. then one night, faye riley left the window open. amblinentertainment universalpictures'"
      ]
     },
     "execution_count": 109,
     "metadata": {},
     "output_type": "execute_result"
    }
   ],
   "source": [
    "new_df.iloc[2]['tags']"
   ]
  },
  {
   "cell_type": "markdown",
   "id": "85f08f69-aef6-4317-b8c1-625b62e1982e",
   "metadata": {},
   "source": [
    "# ~New Chapter: Generating Embeddings"
   ]
  },
  {
   "cell_type": "markdown",
   "id": "68a36cf0-c854-48a1-8c91-4645df3622d1",
   "metadata": {},
   "source": [
    "### Stemming"
   ]
  },
  {
   "cell_type": "code",
   "execution_count": 110,
   "id": "158a3568-08d4-4925-9fe8-feea62b67b4f",
   "metadata": {},
   "outputs": [],
   "source": [
    "import nltk\n",
    "from nltk.stem import PorterStemmer"
   ]
  },
  {
   "cell_type": "code",
   "execution_count": 111,
   "id": "91703c2a-1888-475c-9063-e4f63fab4dc5",
   "metadata": {},
   "outputs": [],
   "source": [
    "ps = PorterStemmer()"
   ]
  },
  {
   "cell_type": "code",
   "execution_count": 112,
   "id": "3adcc594-36ae-4ebc-84d3-1f69665c3e4f",
   "metadata": {},
   "outputs": [],
   "source": [
    "def stems(text):\n",
    "    l = []\n",
    "    for i in text.split():\n",
    "        l.append(ps.stem(i))\n",
    "\n",
    "    return \" \".join(l)"
   ]
  },
  {
   "cell_type": "code",
   "execution_count": 113,
   "id": "871d214b-7b4d-447f-89f0-8eda45ef2564",
   "metadata": {},
   "outputs": [
    {
     "name": "stderr",
     "output_type": "stream",
     "text": [
      "C:\\Users\\fbdog\\AppData\\Local\\Temp\\ipykernel_10376\\3973021881.py:1: SettingWithCopyWarning: \n",
      "A value is trying to be set on a copy of a slice from a DataFrame.\n",
      "Try using .loc[row_indexer,col_indexer] = value instead\n",
      "\n",
      "See the caveats in the documentation: https://pandas.pydata.org/pandas-docs/stable/user_guide/indexing.html#returning-a-view-versus-a-copy\n",
      "  new_df['tags'] = new_df['tags'].apply(stems)\n"
     ]
    }
   ],
   "source": [
    "new_df['tags'] = new_df['tags'].apply(stems)"
   ]
  },
  {
   "cell_type": "code",
   "execution_count": 114,
   "id": "c8bb3da8-e845-40ab-a3b2-4cf4b5f226d5",
   "metadata": {
    "scrolled": true
   },
   "outputs": [
    {
     "data": {
      "text/plain": [
       "'in a soon to be demolish block of apartments, the resid resist the crimin method use to forc them to leav so a greedi tycoon can build hi new skyscraper. when tini mechan alien land for a recharge, they decid to stay and help out. famili comedi fantasi sciencefict johndisanti dennisboutsikari davidvasquez charlesraymond macintyredixon humecronyn joeham wendyscha judygraf jonimparato dickmartinsen tomaldredg susanshoffn johnarceri jameslegro alicebeardsley joséangelsantana dorisbelack michaelgreen shellykurtz frankmcra janehoffman jessicatandi johnpankow h.claydear elizabethpeña ronaldl.schwari michaelcarmin rikicolon howardrenensland matthewrobbin brentmaddock mickgarri s.s.wilson bradbird matthewrobbin five ordinari peopl need a miracle. then one night, fay riley left the window open. amblinentertain universalpictur'"
      ]
     },
     "execution_count": 114,
     "metadata": {},
     "output_type": "execute_result"
    }
   ],
   "source": [
    "new_df.iloc[2]['tags']"
   ]
  },
  {
   "cell_type": "markdown",
   "id": "61cab035-729f-4819-b08e-5c0b527ad376",
   "metadata": {},
   "source": [
    "# Count Vectorizer"
   ]
  },
  {
   "cell_type": "markdown",
   "id": "d0eea5a4-bd0d-4bf6-8f40-c9219b048e0d",
   "metadata": {},
   "source": [
    "Metin verilerini sayısal verilere dönüştürmek için kullanılan bir araçtır. Doğal dil işleme (NLP) ve metin madenciliği alanında yaygın olarak kullanılır. CountVectorizer, bir metin kümesini kelime sayımlarına dayalı olarak vektörler halinde temsil eder. Bu, makine öğrenmesi algoritmalarının metin verileri üzerinde çalışmasına olanak tanır."
   ]
  },
  {
   "cell_type": "code",
   "execution_count": 115,
   "id": "2663247c-6afc-4d7c-80a2-e622174c03b1",
   "metadata": {},
   "outputs": [],
   "source": [
    "from sklearn.feature_extraction.text import CountVectorizer\n",
    "cv = CountVectorizer(max_features =5000, stop_words='english')"
   ]
  },
  {
   "cell_type": "code",
   "execution_count": 116,
   "id": "4a0e048f-af82-4d23-964c-947cd011158e",
   "metadata": {},
   "outputs": [],
   "source": [
    "vector = cv.fit_transform(new_df['tags']).toarray()"
   ]
  },
  {
   "cell_type": "code",
   "execution_count": 117,
   "id": "eb3a7fd7-4071-4aec-9613-e197ac4baef9",
   "metadata": {},
   "outputs": [
    {
     "data": {
      "text/plain": [
       "(7870, 5000)"
      ]
     },
     "execution_count": 117,
     "metadata": {},
     "output_type": "execute_result"
    }
   ],
   "source": [
    "vector.shape"
   ]
  },
  {
   "cell_type": "markdown",
   "id": "a1346aea-1ac1-49a8-af48-1fefb0acc639",
   "metadata": {},
   "source": [
    "## Cosine Similarity"
   ]
  },
  {
   "cell_type": "code",
   "execution_count": 118,
   "id": "6cbe636b-aaf9-4b3e-bce1-d4afce8d59a6",
   "metadata": {},
   "outputs": [],
   "source": [
    "from sklearn.metrics.pairwise import cosine_similarity"
   ]
  },
  {
   "cell_type": "code",
   "execution_count": 119,
   "id": "479901d6-9dd6-4bfe-ae30-16d1c4000e8a",
   "metadata": {},
   "outputs": [],
   "source": [
    "sim = cosine_similarity(vector)"
   ]
  },
  {
   "cell_type": "code",
   "execution_count": 120,
   "id": "9ed47e45-0ef3-4f16-9909-7fe9ce24219e",
   "metadata": {},
   "outputs": [
    {
     "data": {
      "text/plain": [
       "(7870, 7870)"
      ]
     },
     "execution_count": 120,
     "metadata": {},
     "output_type": "execute_result"
    }
   ],
   "source": [
    "sim.shape"
   ]
  },
  {
   "cell_type": "code",
   "execution_count": 121,
   "id": "d161a7f6-7c61-4fc3-8aa0-ea2b2f5c70b2",
   "metadata": {},
   "outputs": [
    {
     "data": {
      "text/plain": [
       "434"
      ]
     },
     "execution_count": 121,
     "metadata": {},
     "output_type": "execute_result"
    }
   ],
   "source": [
    "new_df[new_df['title'] == 'Spider-Man'].index[0]"
   ]
  },
  {
   "cell_type": "markdown",
   "id": "72a5685d-a24f-4f79-a42e-cc5272f87461",
   "metadata": {},
   "source": [
    "## Benzerlik ölçümü"
   ]
  },
  {
   "cell_type": "code",
   "execution_count": 132,
   "id": "05f59d08-084c-447e-8777-ae81108b2095",
   "metadata": {},
   "outputs": [
    {
     "name": "stdout",
     "output_type": "stream",
     "text": [
      "\n",
      "Benzerlik oranları:\n",
      "Jarhead: 0.34594920301083193\n",
      "The Good German: 0.32596012026013244\n",
      "Punisher: War Zone: 0.31492193346260305\n",
      "Objective: 500 Million: 0.31378581622109447\n",
      "Marooned in Iraq: 0.31237900883588565\n"
     ]
    }
   ],
   "source": [
    "def recommend(movie):\n",
    "    index = new_df[new_df['title'] == movie].index[0]\n",
    "    distances = sorted(list(enumerate(sim[index])), reverse=True, key=lambda x: x[1])\n",
    "\n",
    "    recommended_movies = []\n",
    "    similarity_scores = []\n",
    "    for i in distances[1:6]:\n",
    "        recommended_movies.append(new_df.iloc[i[0]].title)\n",
    "        similarity_scores.append(i[1])\n",
    "\n",
    "    return recommended_movies, similarity_scores\n",
    "\n",
    "recommended_movies, similarity_scores = recommend(\"Shine\")\n",
    "\n",
    "print(\"\\nBenzerlik oranları:\")\n",
    "for i in range(len(recommended_movies)):\n",
    "    print(f\"{recommended_movies[i]}: {similarity_scores[i]}\")"
   ]
  },
  {
   "cell_type": "code",
   "execution_count": 139,
   "id": "e4bfafb6-a3a0-418d-aed9-b9a45e7fd34a",
   "metadata": {},
   "outputs": [
    {
     "name": "stdout",
     "output_type": "stream",
     "text": [
      "NDCG@5: 1.0\n"
     ]
    }
   ],
   "source": [
    "def recommend2(movie, num_recommendations=5):\n",
    "    try:\n",
    "        index = new_df[new_df['title'] == movie].index[0]\n",
    "    except IndexError:\n",
    "        print(f\"Movie '{movie}' not found in the dataset.\")\n",
    "        return None\n",
    "\n",
    "    distances = sorted(list(enumerate(sim[index])), reverse=True, key=lambda x: x[1])\n",
    "    recommendations = [new_df.iloc[i[0]].title for i in distances[1:num_recommendations + 1]]\n",
    "    return recommendations\n",
    "\n",
    "ground_truth = [\"Jarhead\", \"The Good German\", \"Punisher: War Zone\", \"Objective: 500 Million\", \"Marooned in Iraq\"]\n",
    "recommendations = recommend2(\"Shine\")\n",
    "\n",
    "if recommendations is None:\n",
    "    print(\"No recommendations found, exiting.\")\n",
    "else:\n",
    "    def dcg_at_k(recommendations, ground_truth, k):\n",
    "        dcg = 0.0\n",
    "        for i in range(min(k, len(recommendations))):\n",
    "            if recommendations[i] in ground_truth:\n",
    "                dcg += 1.0 / np.log2(i + 2)  # log2(i+2) because index starts at 0\n",
    "        return dcg\n",
    "\n",
    "    def idcg_at_k(ground_truth, k):\n",
    "        idcg = 0.0\n",
    "        for i in range(min(k, len(ground_truth))):\n",
    "            idcg += 1.0 / np.log2(i + 2)\n",
    "        return idcg\n",
    "\n",
    "    def ndcg_at_k(recommendations, ground_truth, k):\n",
    "        dcg = dcg_at_k(recommendations, ground_truth, k)\n",
    "        idcg = idcg_at_k(ground_truth, k)\n",
    "        if idcg == 0:\n",
    "            return 0.0\n",
    "        return dcg / idcg\n",
    " \n",
    "    k = 5\n",
    "    ndcg_score = ndcg_at_k(recommendations, ground_truth, k)\n",
    "    print(f\"NDCG@{k}: {ndcg_score}\")"
   ]
  },
  {
   "cell_type": "code",
   "execution_count": null,
   "id": "b0c789a6-25ae-4947-bb8c-5c1301635f82",
   "metadata": {},
   "outputs": [],
   "source": []
  },
  {
   "cell_type": "code",
   "execution_count": 124,
   "id": "89e11368-d044-448c-83a0-42cd2d1b2af6",
   "metadata": {},
   "outputs": [],
   "source": [
    "import pickle\n",
    "\n",
    "pickle.dump(new_df,open('desktop/Movie Recommender System/artificats/movie_list.pkl', 'wb'))\n",
    "pickle.dump(sim,open('desktop/Movie Recommender System/artificats/similarity.pkl', 'wb'))"
   ]
  },
  {
   "cell_type": "code",
   "execution_count": null,
   "id": "68c8ec1f-a00a-411a-8bc8-98b3e8ea0701",
   "metadata": {},
   "outputs": [],
   "source": []
  },
  {
   "cell_type": "code",
   "execution_count": null,
   "id": "1bb3a1a8-a9bb-4267-b40b-4084a6bb6779",
   "metadata": {},
   "outputs": [],
   "source": []
  },
  {
   "cell_type": "code",
   "execution_count": null,
   "id": "24ae911c-2888-4cc8-a2c4-d8016ff842df",
   "metadata": {},
   "outputs": [],
   "source": []
  },
  {
   "cell_type": "code",
   "execution_count": null,
   "id": "c39c4bfb-ad01-4900-b1f5-976cae547c4b",
   "metadata": {},
   "outputs": [],
   "source": []
  },
  {
   "cell_type": "code",
   "execution_count": null,
   "id": "baec174b-d5d0-4a61-9084-00952654602a",
   "metadata": {},
   "outputs": [],
   "source": []
  }
 ],
 "metadata": {
  "kernelspec": {
   "display_name": "Python 3 (ipykernel)",
   "language": "python",
   "name": "python3"
  },
  "language_info": {
   "codemirror_mode": {
    "name": "ipython",
    "version": 3
   },
   "file_extension": ".py",
   "mimetype": "text/x-python",
   "name": "python",
   "nbconvert_exporter": "python",
   "pygments_lexer": "ipython3",
   "version": "3.12.3"
  }
 },
 "nbformat": 4,
 "nbformat_minor": 5
}
